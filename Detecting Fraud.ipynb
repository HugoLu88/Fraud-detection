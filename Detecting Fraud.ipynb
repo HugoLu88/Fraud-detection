{
 "cells": [
  {
   "cell_type": "markdown",
   "metadata": {},
   "source": [
    "## Pass rate"
   ]
  },
  {
   "cell_type": "code",
   "execution_count": 1,
   "metadata": {},
   "outputs": [],
   "source": [
    "import pandas as pd\n",
    "import numpy as np\n",
    "import ast\n",
    "from datetime import datetime\n",
    "import seaborn as sns\n",
    "import matplotlib.pyplot as plt"
   ]
  },
  {
   "cell_type": "markdown",
   "metadata": {},
   "source": [
    "Import and explore data"
   ]
  },
  {
   "cell_type": "code",
   "execution_count": 4,
   "metadata": {},
   "outputs": [],
   "source": [
    "#reference redacted#"
   ]
  },
  {
   "cell_type": "code",
   "execution_count": 122,
   "metadata": {},
   "outputs": [],
   "source": [
    "#fsr.describe() redacted"
   ]
  },
  {
   "cell_type": "code",
   "execution_count": 123,
   "metadata": {},
   "outputs": [],
   "source": [
    "#dr.describe() redacted"
   ]
  },
  {
   "cell_type": "code",
   "execution_count": 7,
   "metadata": {},
   "outputs": [],
   "source": [
    "fsr_merge = fsr[['user_id','face_comparison_result','facial_image_integrity_result',]]"
   ]
  },
  {
   "cell_type": "code",
   "execution_count": 8,
   "metadata": {},
   "outputs": [],
   "source": [
    "dr_merge = dr.copy(deep = True)\n",
    "combined = dr_merge.merge(fsr_merge, left_on = \"user_id\",right_on = \"user_id\")"
   ]
  },
  {
   "cell_type": "markdown",
   "metadata": {},
   "source": [
    "We need to unpack the properties column"
   ]
  },
  {
   "cell_type": "code",
   "execution_count": 9,
   "metadata": {},
   "outputs": [],
   "source": [
    "def unpack_cols(df,col):\n",
    "    dr_prop = []\n",
    "    for item in list(df[col]):\n",
    "        dr_prop.append(ast.literal_eval(item))\n",
    "    prop_cols = list(pd.DataFrame(dr_prop))\n",
    "    for item in prop_cols:\n",
    "        df[item] = pd.DataFrame(dr_prop)[item]\n",
    "    return df"
   ]
  },
  {
   "cell_type": "code",
   "execution_count": 10,
   "metadata": {},
   "outputs": [],
   "source": [
    "combined = unpack_cols(combined,'properties')"
   ]
  },
  {
   "cell_type": "markdown",
   "metadata": {},
   "source": [
    "Drop unnecessary columns"
   ]
  },
  {
   "cell_type": "code",
   "execution_count": 11,
   "metadata": {},
   "outputs": [],
   "source": [
    "combined_copy = combined.copy(deep = True)"
   ]
  },
  {
   "cell_type": "code",
   "execution_count": 12,
   "metadata": {},
   "outputs": [],
   "source": [
    "combined_copy.drop(['user_id','properties'],axis =1,inplace = True)"
   ]
  },
  {
   "cell_type": "code",
   "execution_count": 13,
   "metadata": {},
   "outputs": [
    {
     "data": {
      "text/plain": [
       "result\n",
       "clear       162065\n",
       "consider     84581\n",
       "Name: result, dtype: int64"
      ]
     },
     "execution_count": 13,
     "metadata": {},
     "output_type": "execute_result"
    }
   ],
   "source": [
    "combined_copy.groupby('result')['result'].count()"
   ]
  },
  {
   "cell_type": "markdown",
   "metadata": {},
   "source": [
    "Make result columns binary"
   ]
  },
  {
   "cell_type": "code",
   "execution_count": 14,
   "metadata": {},
   "outputs": [],
   "source": [
    "result_cols = []\n",
    "for col_name in list(combined_copy.columns):\n",
    "    if \"result\" in col_name:\n",
    "        result_cols.append(col_name)"
   ]
  },
  {
   "cell_type": "code",
   "execution_count": 124,
   "metadata": {},
   "outputs": [],
   "source": [
    "#combined_copy.groupby('result')[result_cols].count() redacted "
   ]
  },
  {
   "cell_type": "code",
   "execution_count": 16,
   "metadata": {},
   "outputs": [],
   "source": [
    "for item in result_cols:\n",
    "    combined_copy[item] = combined_copy[item].apply(lambda x: 1 if x == \"clear\" else 0)"
   ]
  },
  {
   "cell_type": "markdown",
   "metadata": {},
   "source": [
    "Clean the created at column"
   ]
  },
  {
   "cell_type": "code",
   "execution_count": 18,
   "metadata": {},
   "outputs": [],
   "source": [
    "combined_copy['created_at_edit'] = combined_copy['created_at'].apply(lambda x: x[0:10])\n",
    "combined_copy['created_at_edit'] = combined_copy['created_at_edit'].apply(lambda x:datetime.strptime(x, '%Y-%m-%d') )\n",
    "combined_copy['time_since_min'] = (combined_copy['created_at_edit'] - combined_copy['created_at_edit'].min())\n",
    "combined_copy['time_since_min'] = combined_copy['time_since_min'].apply(lambda x: x.days)"
   ]
  },
  {
   "cell_type": "code",
   "execution_count": 19,
   "metadata": {},
   "outputs": [],
   "source": [
    "combined_copy.drop(['created_at','created_at_edit'],axis =1,inplace = True)"
   ]
  },
  {
   "cell_type": "markdown",
   "metadata": {},
   "source": [
    "Exploratory data analysis"
   ]
  },
  {
   "cell_type": "code",
   "execution_count": 21,
   "metadata": {},
   "outputs": [
    {
     "data": {
      "text/plain": [
       "result                                0.000000\n",
       "visual_authenticity_result            0.329211\n",
       "image_integrity_result                0.094832\n",
       "face_detection_result                 0.383798\n",
       "image_quality_result                  0.435039\n",
       "supported_document_result             0.951384\n",
       "conclusive_document_quality_result    0.058441\n",
       "colour_picture_result                 0.356995\n",
       "data_validation_result                0.350954\n",
       "data_consistency_result               0.250316\n",
       "data_comparison_result                0.000532\n",
       "police_record_result                  0.386801\n",
       "compromised_document_result           0.247502\n",
       "sub_result                            0.000000\n",
       "face_comparison_result                0.886677\n",
       "facial_image_integrity_result         0.888663\n",
       "dtype: float64"
      ]
     },
     "execution_count": 21,
     "metadata": {},
     "output_type": "execute_result"
    }
   ],
   "source": [
    "combined_copy[combined_copy['result'] == 0][result_cols].mean()"
   ]
  },
  {
   "cell_type": "code",
   "execution_count": 22,
   "metadata": {},
   "outputs": [
    {
     "data": {
      "text/plain": [
       "result                                1.000000\n",
       "visual_authenticity_result            0.999981\n",
       "image_integrity_result                0.999988\n",
       "face_detection_result                 0.999741\n",
       "image_quality_result                  0.999988\n",
       "supported_document_result             0.999969\n",
       "conclusive_document_quality_result    0.586765\n",
       "colour_picture_result                 0.586808\n",
       "data_validation_result                0.945571\n",
       "data_consistency_result               0.609033\n",
       "data_comparison_result                0.017814\n",
       "police_record_result                  0.956437\n",
       "compromised_document_result           0.257366\n",
       "sub_result                            1.000000\n",
       "face_comparison_result                0.931873\n",
       "facial_image_integrity_result         0.936310\n",
       "dtype: float64"
      ]
     },
     "execution_count": 22,
     "metadata": {},
     "output_type": "execute_result"
    }
   ],
   "source": [
    "combined_copy[combined_copy['result'] == 1][result_cols].mean()"
   ]
  },
  {
   "cell_type": "markdown",
   "metadata": {},
   "source": [
    "## Look at covariance"
   ]
  },
  {
   "cell_type": "code",
   "execution_count": 23,
   "metadata": {},
   "outputs": [],
   "source": [
    "cov = combined_copy[result_cols ]"
   ]
  },
  {
   "cell_type": "code",
   "execution_count": 24,
   "metadata": {},
   "outputs": [],
   "source": [
    "cov = cov.dropna()"
   ]
  },
  {
   "cell_type": "code",
   "execution_count": 25,
   "metadata": {},
   "outputs": [],
   "source": [
    "cov.reset_index(inplace = True, drop =True)"
   ]
  },
  {
   "cell_type": "code",
   "execution_count": 26,
   "metadata": {},
   "outputs": [],
   "source": [
    "cov = np.array(cov).T@np.array(cov)/len(cov)"
   ]
  },
  {
   "cell_type": "code",
   "execution_count": 27,
   "metadata": {},
   "outputs": [],
   "source": [
    "def cov2corr(cov):\n",
    "    # Derive the correlation matrix from a covariance matrix\n",
    "    std=np.sqrt(np.diag(cov))\n",
    "    corr=cov/np.outer(std,std)\n",
    "    corr[corr<-1],corr[corr>1]=-1,1 # numerical error\n",
    "    return corr"
   ]
  },
  {
   "cell_type": "code",
   "execution_count": 28,
   "metadata": {},
   "outputs": [],
   "source": [
    "corr = cov2corr(cov)"
   ]
  },
  {
   "cell_type": "code",
   "execution_count": 30,
   "metadata": {},
   "outputs": [
    {
     "data": {
      "text/plain": [
       "<matplotlib.axes._subplots.AxesSubplot at 0x23df63d1128>"
      ]
     },
     "execution_count": 30,
     "metadata": {},
     "output_type": "execute_result"
    },
    {
     "data": {
      "image/png": "[encoded data removed]",
      "text/plain": [
       "<Figure size 432x288 with 2 Axes>"
      ]
     },
     "metadata": {
      "needs_background": "light"
     },
     "output_type": "display_data"
    }
   ],
   "source": [
    "\n",
    "sns.heatmap(corr,cmap = \"viridis\")"
   ]
  },
  {
   "cell_type": "markdown",
   "metadata": {},
   "source": [
    "This implies that the test which is failing are generally all those in the top 4 as that is where corrrelation is highest. These are all visual"
   ]
  },
  {
   "cell_type": "code",
   "execution_count": 31,
   "metadata": {},
   "outputs": [],
   "source": [
    "other_cols = list(combined_copy.columns)\n",
    "for item in result_cols:\n",
    "    other_cols.remove(item)\n",
    "other_cols.append(\"result\")"
   ]
  },
  {
   "cell_type": "code",
   "execution_count": 33,
   "metadata": {},
   "outputs": [
    {
     "data": {
      "image/png": "[encoded data removed]",
      "text/plain": [
       "<Figure size 1440x720 with 1 Axes>"
      ]
     },
     "metadata": {
      "needs_background": "light"
     },
     "output_type": "display_data"
    },
    {
     "data": {
      "text/plain": [
       "<Figure size 72x72 with 0 Axes>"
      ]
     },
     "metadata": {},
     "output_type": "display_data"
    }
   ],
   "source": [
    "import matplotlib.pyplot as plt\n",
    "from pylab import rcParams\n",
    "rcParams['figure.figsize'] = 20, 10\n",
    "# line 1 points\n",
    "x1 = combined_copy['time_since_min'].drop_duplicates().sort_values()\n",
    "y1 = combined_copy[other_cols].groupby('time_since_min')['result'].mean()\n",
    "# plotting the line 1 points \n",
    "plt.plot(x1, y1, label = \"result\", color = \"R\")\n",
    "# line 2 points\n",
    "x2 = combined_copy['time_since_min'].drop_duplicates().sort_values()\n",
    "y2 = combined_copy.groupby('time_since_min')['visual_authenticity_result'].mean()\n",
    "# plotting the line 2 points \n",
    "plt.plot(x2, y2, label = \"va result\",color = \"G\")\n",
    "# line 3 points\n",
    "x3 = combined_copy['time_since_min'].drop_duplicates().sort_values()\n",
    "y3 = combined_copy.groupby('time_since_min')['face_comparison_result'].mean()\n",
    "# plotting the line 2 points \n",
    "plt.plot(x3, y3, label = \"fc result\",color = \"B\")\n",
    "# line 4 points\n",
    "x4 = combined_copy['time_since_min'].drop_duplicates().sort_values()\n",
    "y4 = combined_copy.groupby('time_since_min')['facial_image_integrity_result'].mean()\n",
    "# plotting the line 2 points \n",
    "plt.plot(x4, y4, label = \"fii result\",color = \"Y\")\n",
    "plt.xlabel('time')\n",
    "# Set the y axis label of the current axis.\n",
    "plt.ylabel('% pass')\n",
    "# Set a title of the current axes.\n",
    "plt.title('Result vs. key sub tests')\n",
    "# show a legend on the plot\n",
    "plt.legend()\n",
    "plt.figure(figsize=(1,1))\n",
    "# Display a figure.\n",
    "plt.show()"
   ]
  },
  {
   "cell_type": "markdown",
   "metadata": {},
   "source": [
    "We can now see that there was an anomaly around time since min = 150 and 151"
   ]
  },
  {
   "cell_type": "code",
   "execution_count": 34,
   "metadata": {},
   "outputs": [],
   "source": [
    "combined_copy['anomaly'] = combined_copy['time_since_min'].apply(lambda x: 1 if x == 150 | x == 151 else 0)"
   ]
  },
  {
   "cell_type": "code",
   "execution_count": 35,
   "metadata": {},
   "outputs": [
    {
     "data": {
      "text/plain": [
       "result                                  0.657089\n",
       "visual_authenticity_result              0.769969\n",
       "image_integrity_result                  0.689601\n",
       "face_detection_result                   0.788531\n",
       "image_quality_result                    0.806265\n",
       "supported_document_result               0.983308\n",
       "conclusive_document_quality_result      0.405598\n",
       "colour_picture_result                   0.508006\n",
       "data_validation_result                  0.741673\n",
       "data_consistency_result                 0.486026\n",
       "data_comparison_result                  0.011888\n",
       "police_record_result                    0.761106\n",
       "compromised_document_result             0.253985\n",
       "sub_result                              0.657089\n",
       "face_comparison_result                  0.916376\n",
       "facial_image_integrity_result           0.919973\n",
       "time_since_min                        104.001208\n",
       "Name: 0, dtype: float64"
      ]
     },
     "execution_count": 35,
     "metadata": {},
     "output_type": "execute_result"
    }
   ],
   "source": [
    "combined_copy.groupby('anomaly').mean().iloc[0,:]"
   ]
  },
  {
   "cell_type": "code",
   "execution_count": 36,
   "metadata": {},
   "outputs": [],
   "source": [
    "labels = result_cols\n",
    "men_means = np.round(list(combined_copy[result_cols+['anomaly']].groupby('anomaly').mean().iloc[0,:]),2)\n",
    "women_means = np.round(list(combined_copy[result_cols+['anomaly']].groupby('anomaly').mean().iloc[1,:]),2)"
   ]
  },
  {
   "cell_type": "code",
   "execution_count": 38,
   "metadata": {},
   "outputs": [
    {
     "data": {
      "image/png": "[encoded data removed]",
      "text/plain": [
       "<Figure size 1440x720 with 1 Axes>"
      ]
     },
     "metadata": {
      "needs_background": "light"
     },
     "output_type": "display_data"
    }
   ],
   "source": [
    "\n",
    "\n",
    "x = np.arange(len(labels))  # the label locations\n",
    "width = 0.35  # the width of the bars\n",
    "\n",
    "fig, ax = plt.subplots()\n",
    "rects1 = ax.bar(x - width/2, men_means, width, label='Normal')\n",
    "rects2 = ax.bar(x + width/2, women_means, width, label='Shock')\n",
    "\n",
    "# Add some text for labels, title and custom x-axis tick labels, etc.\n",
    "ax.set_ylabel('Scores')\n",
    "ax.set_title('Scores normal vs. shock')\n",
    "ax.set_xticks(x)\n",
    "ax.set_xticklabels(labels)\n",
    "ax.legend()\n",
    "\n",
    "\n",
    "def autolabel(rects):\n",
    "    \"\"\"Attach a text label above each bar in *rects*, displaying its height.\"\"\"\n",
    "    for rect in rects:\n",
    "        height = rect.get_height()\n",
    "        ax.annotate('{}'.format(height),\n",
    "                    xy=(rect.get_x() + rect.get_width() / 2, height),\n",
    "                    xytext=(0, 3),  # 3 points vertical offset\n",
    "                    textcoords=\"offset points\",\n",
    "                    ha='center', va='bottom')\n",
    "\n",
    "\n",
    "autolabel(rects1)\n",
    "autolabel(rects2)\n",
    "\n",
    "fig.tight_layout()\n",
    "plt.xticks(rotation=90)\n",
    "plt.show()"
   ]
  },
  {
   "cell_type": "markdown",
   "metadata": {},
   "source": [
    "## Diving into demographic data"
   ]
  },
  {
   "cell_type": "code",
   "execution_count": 40,
   "metadata": {},
   "outputs": [],
   "source": [
    "demographic_data = ['date_of_expiry','document_type','document_version','gender','issuing_country','issuing_date','issuing_state','nationality',\n",
    "                   ]\n",
    "\n",
    "#combined_copy.head(2)"
   ]
  },
  {
   "cell_type": "code",
   "execution_count": 41,
   "metadata": {},
   "outputs": [
    {
     "data": {
      "text/plain": [
       "document_type\n",
       "birth_certificate         1.000000\n",
       "driving_licence           0.838032\n",
       "national_identity_card    0.864242\n",
       "passport                  0.772392\n",
       "residence_permit          0.864230\n",
       "tax_id                    1.000000\n",
       "voter_id                  1.000000\n",
       "work_permit               0.947368\n",
       "Name: result, dtype: float64"
      ]
     },
     "execution_count": 41,
     "metadata": {},
     "output_type": "execute_result"
    }
   ],
   "source": [
    "combined_copy.groupby('document_type')['result'].mean()"
   ]
  },
  {
   "cell_type": "code",
   "execution_count": 42,
   "metadata": {},
   "outputs": [
    {
     "data": {
      "text/plain": [
       "document_type\n",
       "birth_certificate             2\n",
       "driving_licence           65013\n",
       "national_identity_card    68423\n",
       "passport                  57946\n",
       "residence_permit           4213\n",
       "tax_id                       12\n",
       "voter_id                     13\n",
       "work_permit                  19\n",
       "Name: result, dtype: int64"
      ]
     },
     "execution_count": 42,
     "metadata": {},
     "output_type": "execute_result"
    }
   ],
   "source": [
    "combined_copy.groupby('document_type')['result'].count()"
   ]
  },
  {
   "cell_type": "code",
   "execution_count": 44,
   "metadata": {},
   "outputs": [],
   "source": [
    "#print(combined_copy.groupby('result')['issuing_data_is_nan'].mean())\n",
    "combined_copy['issuing_data_is_nan'] = combined_copy['issuing_date'].apply(lambda x: 1 if pd.isna(x) else 0)\n",
    "demographic_data.append('issuing_data_is_nan')"
   ]
  },
  {
   "cell_type": "code",
   "execution_count": 46,
   "metadata": {},
   "outputs": [],
   "source": [
    "#print(combined_copy.groupby('result')['issuing_state_is_nan'].mean())\n",
    "combined_copy['issuing_state_is_nan'] = combined_copy['issuing_state'].apply(lambda x: 1 if pd.isna(x) else 0)\n",
    "demographic_data.append('issuing_state_is_nan')"
   ]
  },
  {
   "cell_type": "code",
   "execution_count": 47,
   "metadata": {},
   "outputs": [],
   "source": [
    "combined_copy['nationality_is_country'] = combined_copy['nationality'] == combined_copy['issuing_country']\n",
    "combined_copy['nationality_is_country'] = combined_copy['nationality_is_country'].apply(lambda x: 1 if x == True else 0)\n",
    "demographic_data.append('nationality_is_country')"
   ]
  },
  {
   "cell_type": "code",
   "execution_count": 48,
   "metadata": {},
   "outputs": [
    {
     "name": "stdout",
     "output_type": "stream",
     "text": [
      "result\n",
      "0    0.220853\n",
      "1    0.492697\n",
      "Name: nationality_is_country, dtype: float64\n"
     ]
    }
   ],
   "source": [
    "print(combined_copy.groupby('result')['nationality_is_country'].mean())"
   ]
  },
  {
   "cell_type": "markdown",
   "metadata": {},
   "source": [
    "Let's see if making boolean types for all the dummies is worth it. Ignoring time:"
   ]
  },
  {
   "cell_type": "code",
   "execution_count": 49,
   "metadata": {},
   "outputs": [
    {
     "name": "stdout",
     "output_type": "stream",
     "text": [
      "date_of_expiry\n",
      "1929-10-15    0.0\n",
      "1972-09-17    0.0\n",
      "1972-12-06    0.0\n",
      "1983-01-13    0.0\n",
      "1983-11-19    1.0\n",
      "1984-02-27    0.0\n",
      "1990-11-25    1.0\n",
      "1999-01-01    0.0\n",
      "1999-03-30    1.0\n",
      "1999-12-31    0.0\n",
      "2000-06-28    0.0\n",
      "2001-05-31    0.0\n",
      "2001-12-19    0.0\n",
      "2002-08-02    0.0\n",
      "2003-01-12    0.0\n",
      "2003-01-14    0.0\n",
      "2003-10-02    0.0\n",
      "2004-04-02    1.0\n",
      "2004-08-17    0.0\n",
      "2004-11-12    1.0\n",
      "2005-03-16    0.0\n",
      "2005-08-05    0.0\n",
      "2005-11-15    0.0\n",
      "2006-01-22    0.0\n",
      "2006-04-01    0.0\n",
      "2006-06-14    1.0\n",
      "2006-06-20    0.0\n",
      "2006-07-17    0.0\n",
      "2007-01-17    0.0\n",
      "2007-05-12    0.0\n",
      "             ... \n",
      "2063-11-22    1.0\n",
      "2064-02-17    1.0\n",
      "2064-03-29    1.0\n",
      "2064-08-23    1.0\n",
      "2064-09-20    1.0\n",
      "2065-08-16    1.0\n",
      "2066-11-11    0.0\n",
      "2067-03-07    1.0\n",
      "2067-10-05    0.0\n",
      "2070-01-02    1.0\n",
      "2070-08-28    1.0\n",
      "2071-03-01    1.0\n",
      "2071-11-11    1.0\n",
      "2072-10-29    1.0\n",
      "2072-12-10    1.0\n",
      "2074-03-30    1.0\n",
      "2074-04-19    0.0\n",
      "2074-12-23    1.0\n",
      "2075-02-04    0.0\n",
      "2076-01-01    1.0\n",
      "2076-02-24    1.0\n",
      "2076-05-03    1.0\n",
      "2076-08-01    1.0\n",
      "2076-10-01    1.0\n",
      "2076-10-27    1.0\n",
      "2076-11-13    1.0\n",
      "2077-03-16    1.0\n",
      "2077-08-08    1.0\n",
      "2077-12-04    1.0\n",
      "9999-01-01    1.0\n",
      "Name: result, Length: 6384, dtype: float64\n",
      "document_type\n",
      "birth_certificate         1.000000\n",
      "driving_licence           0.838032\n",
      "national_identity_card    0.864242\n",
      "passport                  0.772392\n",
      "residence_permit          0.864230\n",
      "tax_id                    1.000000\n",
      "voter_id                  1.000000\n",
      "work_permit               0.947368\n",
      "Name: result, dtype: float64\n",
      "document_version\n",
      "10000    0.838235\n",
      "20000    1.000000\n",
      "Name: result, dtype: float64\n",
      "gender\n",
      "8         0.333333\n",
      "FEMALE    1.000000\n",
      "Female    0.823304\n",
      "MALE      1.000000\n",
      "Male      0.812354\n",
      "Name: result, dtype: float64\n",
      "issuing_country\n",
      "AFG    1.000000\n",
      "AGO    1.000000\n",
      "ALB    0.906250\n",
      "ARE    0.769231\n",
      "ARG    0.895238\n",
      "ARM    1.000000\n",
      "AUS    0.906181\n",
      "AUT    0.765060\n",
      "AZE    0.900000\n",
      "BEL    0.779838\n",
      "BEN    0.916667\n",
      "BFA    1.000000\n",
      "BGD    0.546875\n",
      "BGR    0.853195\n",
      "BHR    0.600000\n",
      "BIH    0.500000\n",
      "BLR    0.982143\n",
      "BLZ    1.000000\n",
      "BMU    1.000000\n",
      "BOL    1.000000\n",
      "BRA    0.870670\n",
      "BRB    1.000000\n",
      "BRN    1.000000\n",
      "BWA    1.000000\n",
      "CAF    1.000000\n",
      "CAN    0.858896\n",
      "CHE    0.910164\n",
      "CHL    0.883721\n",
      "CHN    0.927632\n",
      "CIV    0.764706\n",
      "         ...   \n",
      "SRB    0.884058\n",
      "SUR    1.000000\n",
      "SVK    0.866972\n",
      "SVN    0.929734\n",
      "SWE    0.879543\n",
      "SWZ    0.800000\n",
      "SYC    0.666667\n",
      "SYR    0.400000\n",
      "Svn    1.000000\n",
      "TCD    1.000000\n",
      "TGO    0.857143\n",
      "THA    0.918367\n",
      "TJK    1.000000\n",
      "TKM    1.000000\n",
      "TTO    1.000000\n",
      "TUN    0.816901\n",
      "TUR    0.879581\n",
      "TWN    0.903640\n",
      "TZA    1.000000\n",
      "UGA    1.000000\n",
      "UKR    0.914163\n",
      "URY    1.000000\n",
      "USA    0.931748\n",
      "UZB    0.666667\n",
      "VEN    0.828571\n",
      "VNM    0.783133\n",
      "ZAF    0.901163\n",
      "ZIM    1.000000\n",
      "ZMB    1.000000\n",
      "ZWE    0.666667\n",
      "Name: result, Length: 168, dtype: float64\n",
      "issuing_date\n",
      "1949-07-31    1.0\n",
      "1956-11-19    1.0\n",
      "1965-11-01    1.0\n",
      "1967-08-19    0.0\n",
      "1968-04-23    1.0\n",
      "1969-01-29    1.0\n",
      "1971-12-09    1.0\n",
      "1974-01-25    1.0\n",
      "1975-04-30    1.0\n",
      "1977-08-21    1.0\n",
      "1978-02-08    1.0\n",
      "1980-02-15    1.0\n",
      "1982-02-18    1.0\n",
      "1982-12-14    1.0\n",
      "1983-04-04    1.0\n",
      "1983-09-24    0.0\n",
      "1984-08-12    1.0\n",
      "1984-11-06    1.0\n",
      "1985-02-18    1.0\n",
      "1985-06-08    1.0\n",
      "1985-07-08    1.0\n",
      "1985-09       1.0\n",
      "1985-11-22    1.0\n",
      "1986-03-27    1.0\n",
      "1986-04-30    1.0\n",
      "1986-05-12    1.0\n",
      "1986-05-16    1.0\n",
      "1986-07-25    1.0\n",
      "1986-12-01    0.0\n",
      "1987-01-07    0.0\n",
      "             ... \n",
      "2019-07-23    1.0\n",
      "2019-09-27    0.0\n",
      "2020-02-22    1.0\n",
      "2020-06-14    0.0\n",
      "2020-09-09    1.0\n",
      "2020-09-13    1.0\n",
      "2020-09-16    1.0\n",
      "2021-03-10    0.0\n",
      "2021-04-12    0.0\n",
      "2021-05-12    0.0\n",
      "2021-11-08    1.0\n",
      "2022-03-21    1.0\n",
      "2023-03-21    0.0\n",
      "2023-11-21    1.0\n",
      "2024-03-19    1.0\n",
      "2025-06-05    1.0\n",
      "2025-07-22    1.0\n",
      "2026-04-06    1.0\n",
      "2026-11-14    0.0\n",
      "2026-11-18    1.0\n",
      "2027-01-11    1.0\n",
      "2027-03-11    1.0\n",
      "2027-03-24    1.0\n",
      "2027-05-02    1.0\n",
      "2027-05-17    1.0\n",
      "2027-07-05    1.0\n",
      "2029-01-29    1.0\n",
      "2029-02-21    1.0\n",
      "2029-12-30    1.0\n",
      "2031-06-23    1.0\n",
      "Name: result, Length: 4745, dtype: float64\n",
      "issuing_state\n",
      "AB     0.882353\n",
      "ACT    1.000000\n",
      "AZ     0.909091\n",
      "BC     0.909091\n",
      "CA     0.912752\n",
      "CE     1.000000\n",
      "CO     1.000000\n",
      "CT     1.000000\n",
      "DC     1.000000\n",
      "DIF    1.000000\n",
      "FL     1.000000\n",
      "GA     0.750000\n",
      "IL     1.000000\n",
      "IN     1.000000\n",
      "JAL    1.000000\n",
      "MA     0.923077\n",
      "MD     1.000000\n",
      "ME     1.000000\n",
      "MEX    1.000000\n",
      "MG     1.000000\n",
      "MI     1.000000\n",
      "MN     1.000000\n",
      "MO     0.800000\n",
      "MS     0.000000\n",
      "NC     1.000000\n",
      "NE     1.000000\n",
      "NH     1.000000\n",
      "NJ     0.911765\n",
      "NLE    1.000000\n",
      "NS     1.000000\n",
      "NSW    0.946746\n",
      "NT     1.000000\n",
      "NV     1.000000\n",
      "NY     0.987952\n",
      "OH     1.000000\n",
      "ON     0.888889\n",
      "OR     1.000000\n",
      "PA     0.818182\n",
      "PR     1.000000\n",
      "QC     0.833333\n",
      "QLD    0.984848\n",
      "RI     1.000000\n",
      "RJ     1.000000\n",
      "RS     1.000000\n",
      "SA     0.758621\n",
      "SC     1.000000\n",
      "SP     1.000000\n",
      "TN     1.000000\n",
      "TX     0.666667\n",
      "UT     1.000000\n",
      "VA     0.692308\n",
      "VER    0.000000\n",
      "VIC    0.948718\n",
      "VT     1.000000\n",
      "WA     0.977778\n",
      "WI     0.750000\n",
      "Name: result, dtype: float64\n",
      "nationality\n",
      "0      1.000000\n",
      "010    0.000000\n",
      "011    1.000000\n",
      "030    1.000000\n",
      "042    0.000000\n",
      "072    0.000000\n",
      "080    0.000000\n",
      "090    0.000000\n",
      "122    0.000000\n",
      "132    0.210526\n",
      "1GT    1.000000\n",
      "89O    0.000000\n",
      "<<<    1.000000\n",
      "<B0    0.000000\n",
      "AFG    1.000000\n",
      "AGO    1.000000\n",
      "ALB    0.909091\n",
      "AND    1.000000\n",
      "ARE    1.000000\n",
      "ARG    0.929204\n",
      "ARM    1.000000\n",
      "AUS    0.896142\n",
      "AUT    0.697638\n",
      "AVN    1.000000\n",
      "AZE    0.823529\n",
      "B      1.000000\n",
      "BDI    1.000000\n",
      "BEL    0.792872\n",
      "BEN    0.916667\n",
      "BFA    1.000000\n",
      "         ...   \n",
      "SYC    0.666667\n",
      "SYR    0.708333\n",
      "Svn    1.000000\n",
      "TA<    0.000000\n",
      "TGO    0.928571\n",
      "THA    0.915789\n",
      "TJK    1.000000\n",
      "TKM    1.000000\n",
      "TTO    0.500000\n",
      "TUN    0.777778\n",
      "TUR    0.873016\n",
      "TWN    0.898802\n",
      "TZA    1.000000\n",
      "UGA    1.000000\n",
      "UKR    0.882353\n",
      "URY    1.000000\n",
      "USA    0.923913\n",
      "UZB    0.833333\n",
      "VEN    0.819672\n",
      "VNM    0.779817\n",
      "W      0.000000\n",
      "XXB    0.454545\n",
      "XXK    0.000000\n",
      "XXX    0.915493\n",
      "XXY    1.000000\n",
      "ZAF    0.897959\n",
      "ZIM    0.666667\n",
      "ZMB    1.000000\n",
      "ZWE    1.000000\n",
      "deu    1.000000\n",
      "Name: result, Length: 208, dtype: float64\n",
      "issuing_data_is_nan\n",
      "0    0.818050\n",
      "1    0.598267\n",
      "Name: result, dtype: float64\n",
      "issuing_state_is_nan\n",
      "0    0.932543\n",
      "1    0.655845\n",
      "Name: result, dtype: float64\n",
      "nationality_is_country\n",
      "0    0.555075\n",
      "1    0.810411\n",
      "Name: result, dtype: float64\n"
     ]
    }
   ],
   "source": [
    "for item in demographic_data:\n",
    "    print(combined_copy.groupby(item)['result'].mean())"
   ]
  },
  {
   "cell_type": "markdown",
   "metadata": {},
   "source": [
    "From this, it seems that document_type, issuing country, nationality (although lots of wrong entries here) and nationality is country make a difference. Below confirms we have a sufficient amount of both types of \"nationality is country\" to try and gauge result"
   ]
  },
  {
   "cell_type": "code",
   "execution_count": 50,
   "metadata": {},
   "outputs": [
    {
     "data": {
      "text/plain": [
       "result\n",
       "0     84581\n",
       "1    162065\n",
       "Name: nationality_is_country, dtype: int64"
      ]
     },
     "execution_count": 50,
     "metadata": {},
     "output_type": "execute_result"
    }
   ],
   "source": [
    "combined_copy.groupby('result')['nationality_is_country'].count()"
   ]
  },
  {
   "cell_type": "markdown",
   "metadata": {},
   "source": [
    "Edit issuing country to get a good list of booleans"
   ]
  },
  {
   "cell_type": "code",
   "execution_count": 51,
   "metadata": {},
   "outputs": [],
   "source": [
    "issuing_country_bools = list(combined_copy.groupby('issuing_country')['issuing_country'].count().sort_values(ascending = False).head(7).index)"
   ]
  },
  {
   "cell_type": "code",
   "execution_count": 52,
   "metadata": {},
   "outputs": [],
   "source": [
    "combined_copy['issuing_country_edit'] = combined_copy['issuing_country'].apply(lambda x: x if x in issuing_country_bools else \"other\")"
   ]
  },
  {
   "cell_type": "markdown",
   "metadata": {},
   "source": [
    "Edit nationality to get a good list of nationalities"
   ]
  },
  {
   "cell_type": "code",
   "execution_count": 53,
   "metadata": {},
   "outputs": [],
   "source": [
    "nationality_bools = list(combined_copy.groupby('nationality')['nationality'].count().sort_values(ascending = False).head(7).index)\n",
    "combined_copy['nationality_edit'] = combined_copy['nationality'].apply(lambda x: x if x in nationality_bools else \"other\")"
   ]
  },
  {
   "cell_type": "markdown",
   "metadata": {},
   "source": [
    "Remove bad gender results and edit gender"
   ]
  },
  {
   "cell_type": "code",
   "execution_count": 54,
   "metadata": {},
   "outputs": [],
   "source": [
    "combined_copy = combined_copy[combined_copy['gender'] !=8]\n",
    "combined_copy.loc[combined_copy['gender'] == \"MALE\",'gender'] = \"Male\"\n",
    "combined_copy.loc[combined_copy['gender'] == \"FEMALE\",'gender'] = \"Female\""
   ]
  },
  {
   "cell_type": "code",
   "execution_count": 55,
   "metadata": {},
   "outputs": [],
   "source": [
    "combined_copy.loc[combined_copy['gender'].isna(),'gender'] = combined_copy['gender'].mode()[0]"
   ]
  },
  {
   "cell_type": "markdown",
   "metadata": {},
   "source": [
    "Add in date of expiry"
   ]
  },
  {
   "cell_type": "code",
   "execution_count": 56,
   "metadata": {},
   "outputs": [],
   "source": [
    "combined_copy.loc[combined_copy['date_of_expiry'].isna(),'date_of_expiry'] = combined_copy['date_of_expiry'].mode()[0]"
   ]
  },
  {
   "cell_type": "code",
   "execution_count": 57,
   "metadata": {},
   "outputs": [],
   "source": [
    "combined_copy = combined_copy[combined_copy['date_of_expiry'] != \"2027-02-30\"]"
   ]
  },
  {
   "cell_type": "code",
   "execution_count": 58,
   "metadata": {},
   "outputs": [],
   "source": [
    "combined_copy['date_of_expiry_edit'] = combined_copy['date_of_expiry'].apply(lambda x:datetime.strptime(x, '%Y-%m-%d') )\n",
    "combined_copy['date_of_expiry_edit'] = (combined_copy['date_of_expiry_edit'] - combined_copy['date_of_expiry_edit'].min())\n",
    "combined_copy['date_of_expiry_edit'] = round(combined_copy['date_of_expiry_edit'].apply(lambda x: x.days)/30,0)"
   ]
  },
  {
   "cell_type": "markdown",
   "metadata": {},
   "source": [
    "## Estimating ie result"
   ]
  },
  {
   "cell_type": "code",
   "execution_count": 59,
   "metadata": {},
   "outputs": [],
   "source": [
    "\n",
    "def make_bool(df,cols):\n",
    "    new_df = df.copy(deep = True) ## do not edit in place\n",
    "    out_list = []\n",
    "    for item in cols:\n",
    "        vals = list(new_df[item].dropna().drop_duplicates())\n",
    "       \n",
    "        vals.sort()\n",
    "        for i,j in enumerate(vals):\n",
    "            if i==0:\n",
    "                print(\"Skipping\")\n",
    "            else:\n",
    "            #print(i)\n",
    "            #print(j)\n",
    "                new_df[item+str(\"_is_\")+str(j)+str(\"_edit\")] = 0\n",
    "                new_df.at[(new_df[item] ==j) ,item+str(\"_is_\")+str(j)+str(\"_edit\")] = 1 ## Need to create a new column to avoid overwriting\n",
    "            #new_df[item] = new_df[item+str(\"_edit\")] ## set new column to old column\n",
    "                out_list.append(item+str(\"_is_\")+str(j)+str(\"_edit\"))\n",
    "        new_df.drop(labels = (item),axis = 1, inplace = True)\n",
    "    return new_df,out_list\n",
    "\n",
    "\n",
    "## Therefore this is added as a new variable instead of cabin number. Looking at cabin number seems to provide no indication\n",
    "## of anything really"
   ]
  },
  {
   "cell_type": "code",
   "execution_count": 60,
   "metadata": {},
   "outputs": [
    {
     "name": "stdout",
     "output_type": "stream",
     "text": [
      "Skipping\n",
      "Skipping\n",
      "Skipping\n",
      "Skipping\n"
     ]
    }
   ],
   "source": [
    "[combined_copy_new,out_list]=make_bool(combined_copy,['document_type','nationality_edit','issuing_country_edit','gender'])"
   ]
  },
  {
   "cell_type": "code",
   "execution_count": 61,
   "metadata": {},
   "outputs": [],
   "source": [
    "model_data = combined_copy_new[out_list+['issuing_state_is_nan','issuing_data_is_nan','nationality_is_country','date_of_expiry_edit','time_since_min','result']]"
   ]
  },
  {
   "cell_type": "code",
   "execution_count": 62,
   "metadata": {},
   "outputs": [],
   "source": [
    "model_data = model_data.dropna()\n",
    "model_data.reset_index(inplace = True, drop = True)"
   ]
  },
  {
   "cell_type": "code",
   "execution_count": 63,
   "metadata": {},
   "outputs": [],
   "source": [
    "Y = model_data['result']\n",
    "X = model_data[out_list+['issuing_state_is_nan','issuing_data_is_nan','nationality_is_country','date_of_expiry_edit','time_since_min',]]"
   ]
  },
  {
   "cell_type": "code",
   "execution_count": 64,
   "metadata": {},
   "outputs": [
    {
     "name": "stderr",
     "output_type": "stream",
     "text": [
      "C:\\Users\\hugo.lu\\Anaconda3\\lib\\site-packages\\sklearn\\linear_model\\logistic.py:433: FutureWarning: Default solver will be changed to 'lbfgs' in 0.22. Specify a solver to silence this warning.\n",
      "  FutureWarning)\n"
     ]
    }
   ],
   "source": [
    "X_train = X.iloc[round(len(X)/2):,:]\n",
    "Y_train = Y.iloc[round(len(Y)/2):]\n",
    "from sklearn.linear_model import LogisticRegression\n",
    "#logit_data = all_data[all_data['data_type'] == \"train\"]\n",
    "Y_train = np.array(Y_train)\n",
    "X_train=np.array(X_train)\n",
    "clf = LogisticRegression(random_state=0).fit(X_train, Y_train)\n",
    "clf.predict(X_train)\n",
    "\n",
    "clf.predict_proba(X_train)\n",
    "\n",
    "clf.score(X, Y)\n",
    "X_test = X.iloc[:round(len(X)/2),:]\n",
    "Y_test = Y.iloc[:round(len(Y)/2)]\n",
    "y_hat = clf.predict(X_test)\n",
    "y_act = np.reshape(Y_test,newshape = (len(Y_test),))\n",
    "accuracy = 1-(np.abs(y_hat - y_act).sum()/len(y_hat))"
   ]
  },
  {
   "cell_type": "code",
   "execution_count": 65,
   "metadata": {},
   "outputs": [],
   "source": [
    "y_hat = clf.predict(X_test)\n",
    "y_act = np.reshape(Y_test,newshape = (len(Y_test),))"
   ]
  },
  {
   "cell_type": "code",
   "execution_count": 66,
   "metadata": {},
   "outputs": [],
   "source": [
    "accuracy = 1-(np.abs(y_hat - y_act).sum()/len(y_hat))"
   ]
  },
  {
   "cell_type": "code",
   "execution_count": 67,
   "metadata": {},
   "outputs": [
    {
     "data": {
      "text/plain": [
       "0.7953568706313553"
      ]
     },
     "execution_count": 67,
     "metadata": {},
     "output_type": "execute_result"
    }
   ],
   "source": [
    "accuracy"
   ]
  },
  {
   "cell_type": "code",
   "execution_count": 68,
   "metadata": {},
   "outputs": [
    {
     "data": {
      "text/plain": [
       "<matplotlib.axes._subplots.AxesSubplot at 0x23de8de02b0>"
      ]
     },
     "execution_count": 68,
     "metadata": {},
     "output_type": "execute_result"
    },
    {
     "data": {
      "image/png": "[encoded data removed]",
      "text/plain": [
       "<Figure size 1440x720 with 1 Axes>"
      ]
     },
     "metadata": {
      "needs_background": "light"
     },
     "output_type": "display_data"
    }
   ],
   "source": [
    "pd.DataFrame(clf.predict_proba(X))[0].hist()"
   ]
  },
  {
   "cell_type": "code",
   "execution_count": 69,
   "metadata": {},
   "outputs": [],
   "source": [
    "coefficients = pd.DataFrame(clf.coef_.T).copy(deep = True)\n",
    "indep_vars = out_list+['issuing_state_is_nan','issuing_data_is_nan','nationality_is_country']\n",
    "coefficients['labels'] = (out_list+['issuing_state_is_nan','issuing_data_is_nan','nationality_is_country','date_of_expiry_edit','time_since_min',])\n",
    "coefficients['abs_coef_size'] = coefficients[0].apply(lambda x: np.abs(x))"
   ]
  },
  {
   "cell_type": "code",
   "execution_count": 70,
   "metadata": {},
   "outputs": [
    {
     "data": {
      "text/html": [
       "<div>\n",
       "<style scoped>\n",
       "    .dataframe tbody tr th:only-of-type {\n",
       "        vertical-align: middle;\n",
       "    }\n",
       "\n",
       "    .dataframe tbody tr th {\n",
       "        vertical-align: top;\n",
       "    }\n",
       "\n",
       "    .dataframe thead th {\n",
       "        text-align: right;\n",
       "    }\n",
       "</style>\n",
       "<table border=\"1\" class=\"dataframe\">\n",
       "  <thead>\n",
       "    <tr style=\"text-align: right;\">\n",
       "      <th></th>\n",
       "      <th>0</th>\n",
       "      <th>labels</th>\n",
       "      <th>abs_coef_size</th>\n",
       "    </tr>\n",
       "  </thead>\n",
       "  <tbody>\n",
       "    <tr>\n",
       "      <th>25</th>\n",
       "      <td>0.706974</td>\n",
       "      <td>nationality_is_country</td>\n",
       "      <td>0.706974</td>\n",
       "    </tr>\n",
       "  </tbody>\n",
       "</table>\n",
       "</div>"
      ],
      "text/plain": [
       "           0                  labels  abs_coef_size\n",
       "25  0.706974  nationality_is_country       0.706974"
      ]
     },
     "execution_count": 70,
     "metadata": {},
     "output_type": "execute_result"
    }
   ],
   "source": [
    "combined_copy['nationality_is_country'].mean()\n",
    "coefficients[coefficients['labels'] == 'nationality_is_country']"
   ]
  },
  {
   "cell_type": "code",
   "execution_count": 71,
   "metadata": {},
   "outputs": [
    {
     "data": {
      "text/html": [
       "<div>\n",
       "<style scoped>\n",
       "    .dataframe tbody tr th:only-of-type {\n",
       "        vertical-align: middle;\n",
       "    }\n",
       "\n",
       "    .dataframe tbody tr th {\n",
       "        vertical-align: top;\n",
       "    }\n",
       "\n",
       "    .dataframe thead th {\n",
       "        text-align: right;\n",
       "    }\n",
       "</style>\n",
       "<table border=\"1\" class=\"dataframe\">\n",
       "  <thead>\n",
       "    <tr style=\"text-align: right;\">\n",
       "      <th></th>\n",
       "      <th>0</th>\n",
       "      <th>labels</th>\n",
       "      <th>abs_coef_size</th>\n",
       "    </tr>\n",
       "  </thead>\n",
       "  <tbody>\n",
       "    <tr>\n",
       "      <th>24</th>\n",
       "      <td>-0.520712</td>\n",
       "      <td>issuing_data_is_nan</td>\n",
       "      <td>0.520712</td>\n",
       "    </tr>\n",
       "  </tbody>\n",
       "</table>\n",
       "</div>"
      ],
      "text/plain": [
       "           0               labels  abs_coef_size\n",
       "24 -0.520712  issuing_data_is_nan       0.520712"
      ]
     },
     "execution_count": 71,
     "metadata": {},
     "output_type": "execute_result"
    }
   ],
   "source": [
    "coefficients[coefficients['labels'] == 'issuing_data_is_nan']"
   ]
  },
  {
   "cell_type": "code",
   "execution_count": 72,
   "metadata": {},
   "outputs": [
    {
     "data": {
      "text/plain": [
       "25237"
      ]
     },
     "execution_count": 72,
     "metadata": {},
     "output_type": "execute_result"
    }
   ],
   "source": [
    "np.abs(y_hat - y_act).sum()"
   ]
  },
  {
   "cell_type": "code",
   "execution_count": 73,
   "metadata": {},
   "outputs": [
    {
     "name": "stderr",
     "output_type": "stream",
     "text": [
      "C:\\Users\\hugo.lu\\Anaconda3\\lib\\site-packages\\sklearn\\linear_model\\logistic.py:433: FutureWarning: Default solver will be changed to 'lbfgs' in 0.22. Specify a solver to silence this warning.\n",
      "  FutureWarning)\n"
     ]
    }
   ],
   "source": [
    "#standard errors\n",
    "from sklearn import linear_model\n",
    "logit = linear_model.LogisticRegression()\n",
    "resLogit = logit.fit(X_train, Y_train)\n",
    "predProbs = resLogit.predict_proba(X_train)\n",
    "X_design = np.hstack([np.ones((X_train.shape[0], 1)), X_train])\n",
    "V = (np.product(predProbs, axis=1))\n",
    "V = np.reshape(V,newshape=(len(V),1))\n",
    "covLogit = np.linalg.inv((X_design*V).T@X_design)\n",
    "# Standard errors\n",
    "standard_errors = np.sqrt(np.diag(covLogit))\n"
   ]
  },
  {
   "cell_type": "code",
   "execution_count": 74,
   "metadata": {},
   "outputs": [],
   "source": [
    "\n",
    "coefficients['std'] = standard_errors[1:len(standard_errors)]\n",
    "coefficients['significant'] = (coefficients['abs_coef_size'] - 1.96*coefficients['std'])>0"
   ]
  },
  {
   "cell_type": "code",
   "execution_count": 75,
   "metadata": {},
   "outputs": [
    {
     "data": {
      "text/html": [
       "<div>\n",
       "<style scoped>\n",
       "    .dataframe tbody tr th:only-of-type {\n",
       "        vertical-align: middle;\n",
       "    }\n",
       "\n",
       "    .dataframe tbody tr th {\n",
       "        vertical-align: top;\n",
       "    }\n",
       "\n",
       "    .dataframe thead th {\n",
       "        text-align: right;\n",
       "    }\n",
       "</style>\n",
       "<table border=\"1\" class=\"dataframe\">\n",
       "  <thead>\n",
       "    <tr style=\"text-align: right;\">\n",
       "      <th></th>\n",
       "      <th>0</th>\n",
       "      <th>labels</th>\n",
       "      <th>abs_coef_size</th>\n",
       "      <th>std</th>\n",
       "      <th>significant</th>\n",
       "    </tr>\n",
       "  </thead>\n",
       "  <tbody>\n",
       "    <tr>\n",
       "      <th>0</th>\n",
       "      <td>6.312452</td>\n",
       "      <td>document_type_is_driving_licence_edit</td>\n",
       "      <td>6.312452</td>\n",
       "      <td>0.077993</td>\n",
       "      <td>True</td>\n",
       "    </tr>\n",
       "    <tr>\n",
       "      <th>1</th>\n",
       "      <td>6.321358</td>\n",
       "      <td>document_type_is_national_identity_card_edit</td>\n",
       "      <td>6.321358</td>\n",
       "      <td>0.070346</td>\n",
       "      <td>True</td>\n",
       "    </tr>\n",
       "    <tr>\n",
       "      <th>2</th>\n",
       "      <td>5.702053</td>\n",
       "      <td>document_type_is_passport_edit</td>\n",
       "      <td>5.702053</td>\n",
       "      <td>0.080817</td>\n",
       "      <td>True</td>\n",
       "    </tr>\n",
       "    <tr>\n",
       "      <th>3</th>\n",
       "      <td>6.885265</td>\n",
       "      <td>document_type_is_residence_permit_edit</td>\n",
       "      <td>6.885265</td>\n",
       "      <td>0.097577</td>\n",
       "      <td>True</td>\n",
       "    </tr>\n",
       "    <tr>\n",
       "      <th>8</th>\n",
       "      <td>0.573245</td>\n",
       "      <td>nationality_edit_is_GBR_edit</td>\n",
       "      <td>0.573245</td>\n",
       "      <td>0.118833</td>\n",
       "      <td>True</td>\n",
       "    </tr>\n",
       "    <tr>\n",
       "      <th>10</th>\n",
       "      <td>-0.331193</td>\n",
       "      <td>nationality_edit_is_LTU_edit</td>\n",
       "      <td>0.331193</td>\n",
       "      <td>0.136981</td>\n",
       "      <td>True</td>\n",
       "    </tr>\n",
       "    <tr>\n",
       "      <th>13</th>\n",
       "      <td>0.315258</td>\n",
       "      <td>nationality_edit_is_other_edit</td>\n",
       "      <td>0.315258</td>\n",
       "      <td>0.113305</td>\n",
       "      <td>True</td>\n",
       "    </tr>\n",
       "    <tr>\n",
       "      <th>15</th>\n",
       "      <td>-0.569599</td>\n",
       "      <td>issuing_country_edit_is_GBR_edit</td>\n",
       "      <td>0.569599</td>\n",
       "      <td>0.099910</td>\n",
       "      <td>True</td>\n",
       "    </tr>\n",
       "    <tr>\n",
       "      <th>17</th>\n",
       "      <td>0.473328</td>\n",
       "      <td>issuing_country_edit_is_LTU_edit</td>\n",
       "      <td>0.473328</td>\n",
       "      <td>0.117985</td>\n",
       "      <td>True</td>\n",
       "    </tr>\n",
       "    <tr>\n",
       "      <th>18</th>\n",
       "      <td>0.300502</td>\n",
       "      <td>issuing_country_edit_is_POL_edit</td>\n",
       "      <td>0.300502</td>\n",
       "      <td>0.129251</td>\n",
       "      <td>True</td>\n",
       "    </tr>\n",
       "    <tr>\n",
       "      <th>20</th>\n",
       "      <td>-0.245564</td>\n",
       "      <td>issuing_country_edit_is_other_edit</td>\n",
       "      <td>0.245564</td>\n",
       "      <td>0.099195</td>\n",
       "      <td>True</td>\n",
       "    </tr>\n",
       "    <tr>\n",
       "      <th>23</th>\n",
       "      <td>-1.554361</td>\n",
       "      <td>issuing_state_is_nan</td>\n",
       "      <td>1.554361</td>\n",
       "      <td>0.243153</td>\n",
       "      <td>True</td>\n",
       "    </tr>\n",
       "    <tr>\n",
       "      <th>24</th>\n",
       "      <td>-0.520712</td>\n",
       "      <td>issuing_data_is_nan</td>\n",
       "      <td>0.520712</td>\n",
       "      <td>0.058263</td>\n",
       "      <td>True</td>\n",
       "    </tr>\n",
       "    <tr>\n",
       "      <th>25</th>\n",
       "      <td>0.706974</td>\n",
       "      <td>nationality_is_country</td>\n",
       "      <td>0.706974</td>\n",
       "      <td>0.053006</td>\n",
       "      <td>True</td>\n",
       "    </tr>\n",
       "    <tr>\n",
       "      <th>26</th>\n",
       "      <td>0.001537</td>\n",
       "      <td>date_of_expiry_edit</td>\n",
       "      <td>0.001537</td>\n",
       "      <td>0.000251</td>\n",
       "      <td>True</td>\n",
       "    </tr>\n",
       "    <tr>\n",
       "      <th>27</th>\n",
       "      <td>-0.036307</td>\n",
       "      <td>time_since_min</td>\n",
       "      <td>0.036307</td>\n",
       "      <td>0.000502</td>\n",
       "      <td>True</td>\n",
       "    </tr>\n",
       "  </tbody>\n",
       "</table>\n",
       "</div>"
      ],
      "text/plain": [
       "           0                                        labels  abs_coef_size  \\\n",
       "0   6.312452         document_type_is_driving_licence_edit       6.312452   \n",
       "1   6.321358  document_type_is_national_identity_card_edit       6.321358   \n",
       "2   5.702053                document_type_is_passport_edit       5.702053   \n",
       "3   6.885265        document_type_is_residence_permit_edit       6.885265   \n",
       "8   0.573245                  nationality_edit_is_GBR_edit       0.573245   \n",
       "10 -0.331193                  nationality_edit_is_LTU_edit       0.331193   \n",
       "13  0.315258                nationality_edit_is_other_edit       0.315258   \n",
       "15 -0.569599              issuing_country_edit_is_GBR_edit       0.569599   \n",
       "17  0.473328              issuing_country_edit_is_LTU_edit       0.473328   \n",
       "18  0.300502              issuing_country_edit_is_POL_edit       0.300502   \n",
       "20 -0.245564            issuing_country_edit_is_other_edit       0.245564   \n",
       "23 -1.554361                          issuing_state_is_nan       1.554361   \n",
       "24 -0.520712                           issuing_data_is_nan       0.520712   \n",
       "25  0.706974                        nationality_is_country       0.706974   \n",
       "26  0.001537                           date_of_expiry_edit       0.001537   \n",
       "27 -0.036307                                time_since_min       0.036307   \n",
       "\n",
       "         std  significant  \n",
       "0   0.077993         True  \n",
       "1   0.070346         True  \n",
       "2   0.080817         True  \n",
       "3   0.097577         True  \n",
       "8   0.118833         True  \n",
       "10  0.136981         True  \n",
       "13  0.113305         True  \n",
       "15  0.099910         True  \n",
       "17  0.117985         True  \n",
       "18  0.129251         True  \n",
       "20  0.099195         True  \n",
       "23  0.243153         True  \n",
       "24  0.058263         True  \n",
       "25  0.053006         True  \n",
       "26  0.000251         True  \n",
       "27  0.000502         True  "
      ]
     },
     "execution_count": 75,
     "metadata": {},
     "output_type": "execute_result"
    }
   ],
   "source": [
    "coefficients[coefficients['significant'] == True]"
   ]
  },
  {
   "cell_type": "markdown",
   "metadata": {},
   "source": [
    "We can also try this with less variables, including only those that were significance in the first pass logit"
   ]
  },
  {
   "cell_type": "code",
   "execution_count": 76,
   "metadata": {},
   "outputs": [],
   "source": [
    "new_list = []\n",
    "for item in list(coefficients[coefficients['significant'] == True]['labels']):\n",
    "    new_list.append(item)\n",
    "\n",
    "Y = model_data['result']\n",
    "X = model_data[new_list]"
   ]
  },
  {
   "cell_type": "code",
   "execution_count": 77,
   "metadata": {},
   "outputs": [
    {
     "name": "stderr",
     "output_type": "stream",
     "text": [
      "C:\\Users\\hugo.lu\\Anaconda3\\lib\\site-packages\\sklearn\\linear_model\\logistic.py:433: FutureWarning: Default solver will be changed to 'lbfgs' in 0.22. Specify a solver to silence this warning.\n",
      "  FutureWarning)\n"
     ]
    }
   ],
   "source": [
    "X_train = X.iloc[round(len(X)/2):,:]\n",
    "Y_train = Y.iloc[round(len(Y)/2):]\n",
    "from sklearn.linear_model import LogisticRegression\n",
    "#logit_data = all_data[all_data['data_type'] == \"train\"]\n",
    "Y_train = np.array(Y_train)\n",
    "X_train=np.array(X_train)\n",
    "clf = LogisticRegression(random_state=0).fit(X_train, Y_train)\n",
    "clf.predict(X_train)\n",
    "\n",
    "clf.predict_proba(X_train)\n",
    "\n",
    "clf.score(X, Y)\n",
    "X_test = X.iloc[:round(len(X)/2),:]\n",
    "Y_test = Y.iloc[:round(len(Y)/2)]\n",
    "y_hat = clf.predict(X_test)\n",
    "y_act = np.reshape(Y_test,newshape = (len(Y_test),))\n",
    "accuracy = 1-(np.abs(y_hat - y_act).sum()/len(y_hat))"
   ]
  },
  {
   "cell_type": "code",
   "execution_count": 78,
   "metadata": {},
   "outputs": [
    {
     "name": "stderr",
     "output_type": "stream",
     "text": [
      "C:\\Users\\hugo.lu\\Anaconda3\\lib\\site-packages\\sklearn\\linear_model\\logistic.py:433: FutureWarning: Default solver will be changed to 'lbfgs' in 0.22. Specify a solver to silence this warning.\n",
      "  FutureWarning)\n"
     ]
    }
   ],
   "source": [
    "#standard errors\n",
    "from sklearn import linear_model\n",
    "logit = linear_model.LogisticRegression()\n",
    "resLogit = logit.fit(X_train, Y_train)\n",
    "predProbs = resLogit.predict_proba(X_train)\n",
    "X_design = np.hstack([np.ones((X_train.shape[0], 1)), X_train])\n",
    "V = (np.product(predProbs, axis=1))\n",
    "V = np.reshape(V,newshape=(len(V),1))\n",
    "covLogit = np.linalg.inv((X_design*V).T@X_design)\n",
    "# Standard errors\n",
    "standard_errors = np.sqrt(np.diag(covLogit))\n"
   ]
  },
  {
   "cell_type": "code",
   "execution_count": 79,
   "metadata": {},
   "outputs": [],
   "source": [
    "coefficients = pd.DataFrame(clf.coef_.T).copy(deep = True)\n",
    "\n",
    "coefficients['labels'] = new_list#(out_list+['issuing_state_is_nan','issuing_data_is_nan','nationality_is_country','date_of_expiry_edit','time_since_min',])\n",
    "coefficients['abs_coef_size'] = coefficients[0].apply(lambda x: np.abs(x))\n",
    "\n",
    "coefficients['std'] = standard_errors[1:len(standard_errors)]\n",
    "coefficients['significant'] = (coefficients['abs_coef_size'] - 1.96*coefficients['std'])>0"
   ]
  },
  {
   "cell_type": "code",
   "execution_count": 80,
   "metadata": {},
   "outputs": [
    {
     "data": {
      "text/html": [
       "<div>\n",
       "<style scoped>\n",
       "    .dataframe tbody tr th:only-of-type {\n",
       "        vertical-align: middle;\n",
       "    }\n",
       "\n",
       "    .dataframe tbody tr th {\n",
       "        vertical-align: top;\n",
       "    }\n",
       "\n",
       "    .dataframe thead th {\n",
       "        text-align: right;\n",
       "    }\n",
       "</style>\n",
       "<table border=\"1\" class=\"dataframe\">\n",
       "  <thead>\n",
       "    <tr style=\"text-align: right;\">\n",
       "      <th></th>\n",
       "      <th>0</th>\n",
       "      <th>labels</th>\n",
       "      <th>abs_coef_size</th>\n",
       "      <th>std</th>\n",
       "      <th>significant</th>\n",
       "    </tr>\n",
       "  </thead>\n",
       "  <tbody>\n",
       "    <tr>\n",
       "      <th>0</th>\n",
       "      <td>7.359581</td>\n",
       "      <td>document_type_is_driving_licence_edit</td>\n",
       "      <td>7.359581</td>\n",
       "      <td>0.095583</td>\n",
       "      <td>True</td>\n",
       "    </tr>\n",
       "    <tr>\n",
       "      <th>1</th>\n",
       "      <td>7.569622</td>\n",
       "      <td>document_type_is_national_identity_card_edit</td>\n",
       "      <td>7.569622</td>\n",
       "      <td>0.092433</td>\n",
       "      <td>True</td>\n",
       "    </tr>\n",
       "    <tr>\n",
       "      <th>2</th>\n",
       "      <td>7.021185</td>\n",
       "      <td>document_type_is_passport_edit</td>\n",
       "      <td>7.021185</td>\n",
       "      <td>0.098147</td>\n",
       "      <td>True</td>\n",
       "    </tr>\n",
       "    <tr>\n",
       "      <th>3</th>\n",
       "      <td>8.360580</td>\n",
       "      <td>document_type_is_residence_permit_edit</td>\n",
       "      <td>8.360580</td>\n",
       "      <td>0.120201</td>\n",
       "      <td>True</td>\n",
       "    </tr>\n",
       "    <tr>\n",
       "      <th>4</th>\n",
       "      <td>0.181951</td>\n",
       "      <td>nationality_edit_is_GBR_edit</td>\n",
       "      <td>0.181951</td>\n",
       "      <td>0.062303</td>\n",
       "      <td>True</td>\n",
       "    </tr>\n",
       "    <tr>\n",
       "      <th>5</th>\n",
       "      <td>-0.142344</td>\n",
       "      <td>nationality_edit_is_LTU_edit</td>\n",
       "      <td>0.142344</td>\n",
       "      <td>0.095670</td>\n",
       "      <td>False</td>\n",
       "    </tr>\n",
       "    <tr>\n",
       "      <th>6</th>\n",
       "      <td>-0.073954</td>\n",
       "      <td>nationality_edit_is_other_edit</td>\n",
       "      <td>0.073954</td>\n",
       "      <td>0.058471</td>\n",
       "      <td>False</td>\n",
       "    </tr>\n",
       "    <tr>\n",
       "      <th>7</th>\n",
       "      <td>-0.235741</td>\n",
       "      <td>issuing_country_edit_is_GBR_edit</td>\n",
       "      <td>0.235741</td>\n",
       "      <td>0.047573</td>\n",
       "      <td>True</td>\n",
       "    </tr>\n",
       "    <tr>\n",
       "      <th>8</th>\n",
       "      <td>0.531828</td>\n",
       "      <td>issuing_country_edit_is_LTU_edit</td>\n",
       "      <td>0.531828</td>\n",
       "      <td>0.075888</td>\n",
       "      <td>True</td>\n",
       "    </tr>\n",
       "    <tr>\n",
       "      <th>9</th>\n",
       "      <td>0.214951</td>\n",
       "      <td>issuing_country_edit_is_POL_edit</td>\n",
       "      <td>0.214951</td>\n",
       "      <td>0.052097</td>\n",
       "      <td>True</td>\n",
       "    </tr>\n",
       "    <tr>\n",
       "      <th>10</th>\n",
       "      <td>0.185177</td>\n",
       "      <td>issuing_country_edit_is_other_edit</td>\n",
       "      <td>0.185177</td>\n",
       "      <td>0.050411</td>\n",
       "      <td>True</td>\n",
       "    </tr>\n",
       "    <tr>\n",
       "      <th>11</th>\n",
       "      <td>-3.134297</td>\n",
       "      <td>issuing_state_is_nan</td>\n",
       "      <td>3.134297</td>\n",
       "      <td>0.503761</td>\n",
       "      <td>True</td>\n",
       "    </tr>\n",
       "    <tr>\n",
       "      <th>12</th>\n",
       "      <td>-0.545902</td>\n",
       "      <td>issuing_data_is_nan</td>\n",
       "      <td>0.545902</td>\n",
       "      <td>0.052052</td>\n",
       "      <td>True</td>\n",
       "    </tr>\n",
       "    <tr>\n",
       "      <th>13</th>\n",
       "      <td>0.390880</td>\n",
       "      <td>nationality_is_country</td>\n",
       "      <td>0.390880</td>\n",
       "      <td>0.053445</td>\n",
       "      <td>True</td>\n",
       "    </tr>\n",
       "    <tr>\n",
       "      <th>14</th>\n",
       "      <td>0.003397</td>\n",
       "      <td>date_of_expiry_edit</td>\n",
       "      <td>0.003397</td>\n",
       "      <td>0.000260</td>\n",
       "      <td>True</td>\n",
       "    </tr>\n",
       "    <tr>\n",
       "      <th>15</th>\n",
       "      <td>-0.037184</td>\n",
       "      <td>time_since_min</td>\n",
       "      <td>0.037184</td>\n",
       "      <td>0.000512</td>\n",
       "      <td>True</td>\n",
       "    </tr>\n",
       "  </tbody>\n",
       "</table>\n",
       "</div>"
      ],
      "text/plain": [
       "           0                                        labels  abs_coef_size  \\\n",
       "0   7.359581         document_type_is_driving_licence_edit       7.359581   \n",
       "1   7.569622  document_type_is_national_identity_card_edit       7.569622   \n",
       "2   7.021185                document_type_is_passport_edit       7.021185   \n",
       "3   8.360580        document_type_is_residence_permit_edit       8.360580   \n",
       "4   0.181951                  nationality_edit_is_GBR_edit       0.181951   \n",
       "5  -0.142344                  nationality_edit_is_LTU_edit       0.142344   \n",
       "6  -0.073954                nationality_edit_is_other_edit       0.073954   \n",
       "7  -0.235741              issuing_country_edit_is_GBR_edit       0.235741   \n",
       "8   0.531828              issuing_country_edit_is_LTU_edit       0.531828   \n",
       "9   0.214951              issuing_country_edit_is_POL_edit       0.214951   \n",
       "10  0.185177            issuing_country_edit_is_other_edit       0.185177   \n",
       "11 -3.134297                          issuing_state_is_nan       3.134297   \n",
       "12 -0.545902                           issuing_data_is_nan       0.545902   \n",
       "13  0.390880                        nationality_is_country       0.390880   \n",
       "14  0.003397                           date_of_expiry_edit       0.003397   \n",
       "15 -0.037184                                time_since_min       0.037184   \n",
       "\n",
       "         std  significant  \n",
       "0   0.095583         True  \n",
       "1   0.092433         True  \n",
       "2   0.098147         True  \n",
       "3   0.120201         True  \n",
       "4   0.062303         True  \n",
       "5   0.095670        False  \n",
       "6   0.058471        False  \n",
       "7   0.047573         True  \n",
       "8   0.075888         True  \n",
       "9   0.052097         True  \n",
       "10  0.050411         True  \n",
       "11  0.503761         True  \n",
       "12  0.052052         True  \n",
       "13  0.053445         True  \n",
       "14  0.000260         True  \n",
       "15  0.000512         True  "
      ]
     },
     "execution_count": 80,
     "metadata": {},
     "output_type": "execute_result"
    }
   ],
   "source": [
    "coefficients"
   ]
  },
  {
   "cell_type": "code",
   "execution_count": 81,
   "metadata": {},
   "outputs": [
    {
     "data": {
      "text/plain": [
       "0.7963623684338561"
      ]
     },
     "execution_count": 81,
     "metadata": {},
     "output_type": "execute_result"
    }
   ],
   "source": [
    "accuracy"
   ]
  },
  {
   "cell_type": "markdown",
   "metadata": {},
   "source": [
    "## Detecting Fraud"
   ]
  },
  {
   "cell_type": "code",
   "execution_count": 127,
   "metadata": {},
   "outputs": [],
   "source": [
    "# file path redacted #"
   ]
  },
  {
   "cell_type": "code",
   "execution_count": 83,
   "metadata": {
    "scrolled": true
   },
   "outputs": [
    {
     "data": {
      "text/plain": [
       "300"
      ]
     },
     "execution_count": 83,
     "metadata": {},
     "output_type": "execute_result"
    }
   ],
   "source": [
    "fraudsters['user_id'].nunique() # number of unique fraudsters"
   ]
  },
  {
   "cell_type": "code",
   "execution_count": 84,
   "metadata": {},
   "outputs": [],
   "source": [
    "transactions = transactions.copy(deep = True)\n",
    "combined = transactions.merge(users, left_on = \"USER_ID\",right_on = \"ID\")"
   ]
  },
  {
   "cell_type": "code",
   "execution_count": 85,
   "metadata": {},
   "outputs": [
    {
     "data": {
      "text/plain": [
       "8021"
      ]
     },
     "execution_count": 85,
     "metadata": {},
     "output_type": "execute_result"
    }
   ],
   "source": [
    "combined['USER_ID'].nunique()"
   ]
  },
  {
   "cell_type": "code",
   "execution_count": 86,
   "metadata": {},
   "outputs": [],
   "source": [
    "fraudsters['is_fraud'] = 1"
   ]
  },
  {
   "cell_type": "code",
   "execution_count": 87,
   "metadata": {},
   "outputs": [],
   "source": [
    "combined = combined.merge(fraudsters,how =\"left\",left_on =\"USER_ID\", right_on = \"user_id\")"
   ]
  },
  {
   "cell_type": "code",
   "execution_count": 88,
   "metadata": {},
   "outputs": [],
   "source": [
    "combined['is_fraud'] = combined['is_fraud'].apply(lambda x: 0 if np.isnan(x) else 1)"
   ]
  },
  {
   "cell_type": "code",
   "execution_count": 89,
   "metadata": {},
   "outputs": [],
   "source": [
    "combined.drop(['STATE_x','CREATED_DATE_x'],axis =1,inplace = True)\n",
    "combined.drop(['ID_x','ID_y'],axis =1,inplace = True)"
   ]
  },
  {
   "cell_type": "code",
   "execution_count": 125,
   "metadata": {},
   "outputs": [],
   "source": [
    "# combined.groupby('is_fraud').mean() redacted"
   ]
  },
  {
   "cell_type": "code",
   "execution_count": 126,
   "metadata": {},
   "outputs": [],
   "source": [
    "# combined.groupby('is_fraud').count() redacted"
   ]
  },
  {
   "cell_type": "code",
   "execution_count": 92,
   "metadata": {},
   "outputs": [
    {
     "data": {
      "text/plain": [
       "is_fraud  CURRENCY\n",
       "0         AED          15.981132\n",
       "          AUD          24.823529\n",
       "          BTC           4.242424\n",
       "          CAD          20.900000\n",
       "          CHF          23.319838\n",
       "          CZK          13.327434\n",
       "          DKK          23.763889\n",
       "          ETH           4.377778\n",
       "          EUR          53.764155\n",
       "          GBP          73.892517\n",
       "          HKD          17.142857\n",
       "          HUF          19.026316\n",
       "          ILS          15.818182\n",
       "          INR           7.961538\n",
       "          JPY          18.794872\n",
       "          LTC           3.425000\n",
       "          MAD           4.600000\n",
       "          NOK          41.450000\n",
       "          NZD          27.576923\n",
       "          PLN          32.938806\n",
       "          QAR           4.666667\n",
       "          RON          32.536313\n",
       "          SEK          21.337838\n",
       "          SGD          15.218750\n",
       "          THB          10.000000\n",
       "          TRY           9.657143\n",
       "          USD          21.932168\n",
       "          XRP           2.714286\n",
       "          ZAR          26.186047\n",
       "1         BTC           1.500000\n",
       "          CHF           1.000000\n",
       "          CZK           1.000000\n",
       "          EUR          17.390244\n",
       "          GBP          44.528620\n",
       "          NOK         115.000000\n",
       "          PLN         146.500000\n",
       "          RON           4.333333\n",
       "          USD          13.769231\n",
       "dtype: float64"
      ]
     },
     "execution_count": 92,
     "metadata": {},
     "output_type": "execute_result"
    }
   ],
   "source": [
    "###Types of transaction by user - LOOKS LIKE WE NEED IS NOK AND IS PLN AND IS EUR; MAYBE CONSIDER REMOVING NON RELEVANT FRAUDS\n",
    "combined[[\"CURRENCY\", \"is_fraud\"]].groupby(['is_fraud','CURRENCY'])[\"CURRENCY\"].count()/combined[[\"CURRENCY\", \"is_fraud\",'USER_ID']].groupby(['is_fraud','CURRENCY'])[\"USER_ID\"].nunique()"
   ]
  },
  {
   "cell_type": "code",
   "execution_count": 93,
   "metadata": {},
   "outputs": [
    {
     "data": {
      "text/plain": [
       "is_fraud  TYPE         \n",
       "0         ATM              12.126950\n",
       "          BANK_TRANSFER     5.328962\n",
       "          CARD_PAYMENT     77.176904\n",
       "          P2P              21.111027\n",
       "          TOPUP            17.249699\n",
       "1         ATM              13.076023\n",
       "          BANK_TRANSFER     5.829384\n",
       "          CARD_PAYMENT     30.990950\n",
       "          P2P               5.891892\n",
       "          TOPUP            12.682274\n",
       "dtype: float64"
      ]
     },
     "execution_count": 93,
     "metadata": {},
     "output_type": "execute_result"
    }
   ],
   "source": [
    "###Types of transaction by user - LOOKS LIKE WE NEED IS CARD PAYMENT AND IS P2P\n",
    "combined[[\"TYPE\", \"is_fraud\"]].groupby(['is_fraud','TYPE'])[\"TYPE\"].count()/combined[[\"TYPE\", \"is_fraud\",'USER_ID']].groupby(['is_fraud','TYPE'])[\"USER_ID\"].nunique()"
   ]
  },
  {
   "cell_type": "code",
   "execution_count": 94,
   "metadata": {},
   "outputs": [
    {
     "data": {
      "text/plain": [
       "is_fraud  STATE_y\n",
       "0         ACTIVE     87.297073\n",
       "1         LOCKED     48.638796\n",
       "dtype: float64"
      ]
     },
     "execution_count": 94,
     "metadata": {},
     "output_type": "execute_result"
    }
   ],
   "source": [
    "###States by user - all frauds are locked\n",
    "combined[[\"STATE_y\", \"is_fraud\"]].groupby(['is_fraud','STATE_y'])[\"STATE_y\"].count()/combined[[\"STATE_y\", \"is_fraud\",'USER_ID']].groupby(['is_fraud','STATE_y'])[\"USER_ID\"].nunique()"
   ]
  },
  {
   "cell_type": "markdown",
   "metadata": {},
   "source": [
    "Thesis: fraudulent transactions look similar. We should try to find similar transactions based on feature selection."
   ]
  },
  {
   "cell_type": "code",
   "execution_count": 96,
   "metadata": {},
   "outputs": [
    {
     "name": "stdout",
     "output_type": "stream",
     "text": [
      "The number of possible non frauds is: 7722\n",
      "The number of possible non frauds is: 7722\n",
      "The number of possible non frauds is: 7722\n",
      "The number of possible non frauds is: 7722\n",
      "The number of possible non frauds is: 7722\n",
      "The number of possible non frauds is: 7722\n",
      "The number of possible non frauds is: 7722\n",
      "The number of possible non frauds is: 7722\n"
     ]
    }
   ],
   "source": [
    "## fraudulent transactions:\n",
    "#combined_f = combined[combined['is_fraud'] == 1]\n",
    "filter_list = ['CURRENCY','MERCHANT_COUNTRY','ENTRY_METHOD','TYPE','SOURCE','COUNTRY','PHONE_COUNTRY','HAS_EMAIL']\n",
    "combined_filtered = combined.copy(deep = True)\n",
    "for item in filter_list:\n",
    "    print(\"The number of possible non frauds is: \" + str(combined_filtered[combined_filtered['is_fraud']==0]['USER_ID'].nunique()))\n",
    "    cols = list(combined_filtered[item].drop_duplicates())\n",
    "    combined_filtered['rider'] = combined_filtered[item].apply(lambda x: 1 if x in cols else 0 )\n",
    "    combined_filtered = combined_filtered[combined_filtered['rider'] == 1]\n",
    "    \n",
    "    "
   ]
  },
  {
   "cell_type": "code",
   "execution_count": 97,
   "metadata": {},
   "outputs": [],
   "source": [
    "combined_filtered.drop('rider',axis =1,inplace = True)"
   ]
  },
  {
   "cell_type": "code",
   "execution_count": 98,
   "metadata": {},
   "outputs": [
    {
     "data": {
      "text/plain": [
       "688651"
      ]
     },
     "execution_count": 98,
     "metadata": {},
     "output_type": "execute_result"
    }
   ],
   "source": [
    "len(combined_filtered)"
   ]
  },
  {
   "cell_type": "code",
   "execution_count": 99,
   "metadata": {},
   "outputs": [
    {
     "data": {
      "text/plain": [
       "688651"
      ]
     },
     "execution_count": 99,
     "metadata": {},
     "output_type": "execute_result"
    }
   ],
   "source": [
    "len(combined)"
   ]
  },
  {
   "cell_type": "code",
   "execution_count": 100,
   "metadata": {},
   "outputs": [
    {
     "data": {
      "text/plain": [
       "is_fraud\n",
       "0    7722\n",
       "1     299\n",
       "Name: USER_ID, dtype: int64"
      ]
     },
     "execution_count": 100,
     "metadata": {},
     "output_type": "execute_result"
    }
   ],
   "source": [
    "combined_filtered.groupby('is_fraud')['USER_ID'].nunique()"
   ]
  },
  {
   "cell_type": "code",
   "execution_count": 101,
   "metadata": {},
   "outputs": [
    {
     "data": {
      "text/plain": [
       "is_fraud  FAILED_SIGN_IN_ATTEMPTS\n",
       "0         0                            0.000000\n",
       "          1                           76.043478\n",
       "          2                          196.352941\n",
       "          3                          143.000000\n",
       "          6                          480.000000\n",
       "1         0                            0.000000\n",
       "          1                           38.000000\n",
       "          2                           46.000000\n",
       "dtype: float64"
      ]
     },
     "execution_count": 101,
     "metadata": {},
     "output_type": "execute_result"
    }
   ],
   "source": [
    "###Failed sign in attempts by user - this will be helpful\n",
    "combined_filtered[[\"FAILED_SIGN_IN_ATTEMPTS\", \"is_fraud\"]].groupby(['is_fraud','FAILED_SIGN_IN_ATTEMPTS'])[\"FAILED_SIGN_IN_ATTEMPTS\"].sum()/combined_filtered[[\"FAILED_SIGN_IN_ATTEMPTS\", \"is_fraud\",'USER_ID']].groupby(['is_fraud','FAILED_SIGN_IN_ATTEMPTS'])[\"USER_ID\"].nunique()"
   ]
  },
  {
   "cell_type": "code",
   "execution_count": 102,
   "metadata": {},
   "outputs": [
    {
     "data": {
      "text/plain": [
       "is_fraud  CURRENCY\n",
       "0         AED          15.981132\n",
       "          AUD          24.823529\n",
       "          BTC           4.242424\n",
       "          CAD          20.900000\n",
       "          CHF          23.319838\n",
       "          CZK          13.327434\n",
       "          DKK          23.763889\n",
       "          ETH           4.377778\n",
       "          EUR          53.764155\n",
       "          GBP          73.892517\n",
       "          HKD          17.142857\n",
       "          HUF          19.026316\n",
       "          ILS          15.818182\n",
       "          INR           7.961538\n",
       "          JPY          18.794872\n",
       "          LTC           3.425000\n",
       "          MAD           4.600000\n",
       "          NOK          41.450000\n",
       "          NZD          27.576923\n",
       "          PLN          32.938806\n",
       "          QAR           4.666667\n",
       "          RON          32.536313\n",
       "          SEK          21.337838\n",
       "          SGD          15.218750\n",
       "          THB          10.000000\n",
       "          TRY           9.657143\n",
       "          USD          21.932168\n",
       "          XRP           2.714286\n",
       "          ZAR          26.186047\n",
       "1         BTC           1.500000\n",
       "          CHF           1.000000\n",
       "          CZK           1.000000\n",
       "          EUR          17.390244\n",
       "          GBP          44.528620\n",
       "          NOK         115.000000\n",
       "          PLN         146.500000\n",
       "          RON           4.333333\n",
       "          USD          13.769231\n",
       "dtype: float64"
      ]
     },
     "execution_count": 102,
     "metadata": {},
     "output_type": "execute_result"
    }
   ],
   "source": [
    "###transaction value by user - LOOKS LIKE ALL ARE GOOD FOR DUMMIES\n",
    "combined_filtered[[\"CURRENCY\", \"is_fraud\"]].groupby(['is_fraud','CURRENCY'])[\"CURRENCY\"].count()/combined_filtered[[\"CURRENCY\", \"is_fraud\",'USER_ID']].groupby(['is_fraud','CURRENCY'])[\"USER_ID\"].nunique()"
   ]
  },
  {
   "cell_type": "code",
   "execution_count": 103,
   "metadata": {},
   "outputs": [
    {
     "data": {
      "text/plain": [
       "is_fraud  HAS_EMAIL\n",
       "0         0             321\n",
       "          1            7401\n",
       "1         0               1\n",
       "          1             298\n",
       "Name: USER_ID, dtype: int64"
      ]
     },
     "execution_count": 103,
     "metadata": {},
     "output_type": "execute_result"
    }
   ],
   "source": [
    "###has email - looks as if pretty much all fraudulent transactions have an email\n",
    "combined_filtered[[\"HAS_EMAIL\", \"is_fraud\",'USER_ID']].groupby(['is_fraud','HAS_EMAIL'])[\"USER_ID\"].nunique()"
   ]
  },
  {
   "cell_type": "code",
   "execution_count": 104,
   "metadata": {},
   "outputs": [
    {
     "name": "stdout",
     "output_type": "stream",
     "text": [
      "47\n",
      "18\n"
     ]
    }
   ],
   "source": [
    "# number of unique merchant countries will also work in a decision tree\n",
    "print((combined_filtered.groupby(['is_fraud','USER_ID'])['MERCHANT_COUNTRY'].nunique())[0].max())\n",
    "print((combined_filtered.groupby(['is_fraud','USER_ID'])['MERCHANT_COUNTRY'].nunique())[1].max())"
   ]
  },
  {
   "cell_type": "code",
   "execution_count": 105,
   "metadata": {},
   "outputs": [],
   "source": [
    "unique_mcs = pd.DataFrame(combined_filtered[['USER_ID','MERCHANT_COUNTRY']].groupby('USER_ID')['MERCHANT_COUNTRY'].nunique())\n",
    "unique_mcs.rename(columns = {'MERCHANT_COUNTRY':'n_unique_mcs'},inplace= True)\n",
    "combined_filtered=combined_filtered.merge(unique_mcs,how = \"left\" , left_on = \"USER_ID\",right_on = \"USER_ID\")"
   ]
  },
  {
   "cell_type": "code",
   "execution_count": 106,
   "metadata": {},
   "outputs": [
    {
     "data": {
      "text/plain": [
       "MERCHANT_CATEGORY\n",
       "accounting                      2.537313\n",
       "administrative_area_level_1     1.920000\n",
       "administrative_area_level_2     1.615385\n",
       "administrative_area_level_3     2.866667\n",
       "administrative_area_level_4     1.000000\n",
       "airport                         2.398014\n",
       "amusement_park                  2.309237\n",
       "aquarium                        1.961538\n",
       "archipelago                     1.500000\n",
       "art_gallery                     1.378378\n",
       "atm                             4.631155\n",
       "bakery                          2.487692\n",
       "bank                            3.979893\n",
       "bar                             6.601942\n",
       "beauty_salon                    1.744526\n",
       "bicycle_store                   2.771277\n",
       "book_store                      2.240453\n",
       "bowling_alley                   1.764706\n",
       "bus_station                     1.870662\n",
       "cafe                            6.225560\n",
       "campground                      2.291139\n",
       "car_dealer                      1.907692\n",
       "car_rental                      2.502732\n",
       "car_repair                      1.556522\n",
       "car_wash                        2.023810\n",
       "casino                          2.296703\n",
       "cemetery                        1.000000\n",
       "church                          1.306667\n",
       "city_hall                       1.547619\n",
       "clothing_store                  3.433548\n",
       "                                 ...    \n",
       "police                          1.500000\n",
       "political                       1.000000\n",
       "post_office                     1.542683\n",
       "premise                         2.018779\n",
       "real_estate_agency              3.850467\n",
       "restaurant                      7.965901\n",
       "roofing_contractor              1.400000\n",
       "route                           1.668394\n",
       "rv_park                         1.500000\n",
       "school                          2.259740\n",
       "shoe_store                      1.807198\n",
       "shopping_mall                   4.783820\n",
       "spa                             1.744395\n",
       "stadium                         1.949153\n",
       "storage                         3.067114\n",
       "store                           4.166588\n",
       "street_address                  1.697674\n",
       "sublocality_level_1             1.461538\n",
       "sublocality_level_2             2.875000\n",
       "sublocality_level_3             1.000000\n",
       "subpremise                      1.277778\n",
       "subway_station                  2.220149\n",
       "supermarket                    10.581927\n",
       "taxi_stand                      1.925926\n",
       "train_station                   2.206271\n",
       "transit_station                 1.771855\n",
       "travel_agency                   2.302752\n",
       "university                      7.110236\n",
       "veterinary_care                 2.083333\n",
       "zoo                             1.354839\n",
       "Length: 115, dtype: float64"
      ]
     },
     "execution_count": 106,
     "metadata": {},
     "output_type": "execute_result"
    }
   ],
   "source": [
    "###merchant_category by user - seems very distinct so we should add dummies here too.\n",
    "(combined_filtered[[\"MERCHANT_CATEGORY\", \"is_fraud\"]].groupby(['is_fraud','MERCHANT_CATEGORY'])[\"MERCHANT_CATEGORY\"].count()/combined_filtered[[\"MERCHANT_CATEGORY\", \"is_fraud\",'USER_ID']].groupby(['is_fraud','MERCHANT_CATEGORY'])[\"USER_ID\"].nunique())[0]"
   ]
  },
  {
   "cell_type": "code",
   "execution_count": 107,
   "metadata": {},
   "outputs": [
    {
     "data": {
      "text/plain": [
       "is_fraud\n",
       "0    87.297073\n",
       "1    48.638796\n",
       "Name: USER_ID, dtype: float64"
      ]
     },
     "execution_count": 107,
     "metadata": {},
     "output_type": "execute_result"
    }
   ],
   "source": [
    "###number_of_transactions\n",
    "(combined_filtered[[ \"is_fraud\",'USER_ID']].groupby(['is_fraud'])[\"USER_ID\"].count()/combined_filtered[[ \"is_fraud\",'USER_ID']].groupby(['is_fraud'])[\"USER_ID\"].nunique())"
   ]
  },
  {
   "cell_type": "code",
   "execution_count": 108,
   "metadata": {},
   "outputs": [],
   "source": [
    "num_trs = pd.DataFrame(combined_filtered[['USER_ID']].groupby('USER_ID')['USER_ID'].count())\n",
    "num_trs.rename(columns = {'USER_ID':'n_unique_trs'},inplace= True)\n",
    "combined_filtered=combined_filtered.merge(num_trs,how = \"left\" , left_on = \"USER_ID\",right_on = \"USER_ID\")"
   ]
  },
  {
   "cell_type": "code",
   "execution_count": 109,
   "metadata": {},
   "outputs": [
    {
     "name": "stdout",
     "output_type": "stream",
     "text": [
      "Skipping\n",
      "Skipping\n"
     ]
    }
   ],
   "source": [
    "[combined_filtered,dummy_list] = make_bool(combined_filtered,['MERCHANT_CATEGORY','CURRENCY'])"
   ]
  },
  {
   "cell_type": "code",
   "execution_count": 110,
   "metadata": {},
   "outputs": [],
   "source": [
    "x_vars = dummy_list +['HAS_EMAIL','FAILED_SIGN_IN_ATTEMPTS','n_unique_trs','n_unique_mcs']\n",
    "y_vars = ['is_fraud']"
   ]
  },
  {
   "cell_type": "code",
   "execution_count": 111,
   "metadata": {},
   "outputs": [],
   "source": [
    "model_data = combined_filtered[x_vars+y_vars]"
   ]
  },
  {
   "cell_type": "code",
   "execution_count": 112,
   "metadata": {},
   "outputs": [],
   "source": [
    "model_data_fraud = model_data[model_data['is_fraud']==1]\n",
    "model_data_non_fraud = model_data[model_data['is_fraud']==0]"
   ]
  },
  {
   "cell_type": "code",
   "execution_count": 113,
   "metadata": {},
   "outputs": [
    {
     "name": "stderr",
     "output_type": "stream",
     "text": [
      "C:\\Users\\hugo.lu\\Anaconda3\\lib\\site-packages\\sklearn\\ensemble\\bagging.py:622: DataConversionWarning: A column-vector y was passed when a 1d array was expected. Please change the shape of y to (n_samples, ), for example using ravel().\n",
      "  y = column_or_1d(y, warn=True)\n",
      "C:\\Users\\hugo.lu\\Anaconda3\\lib\\site-packages\\sklearn\\ensemble\\bagging.py:622: DataConversionWarning: A column-vector y was passed when a 1d array was expected. Please change the shape of y to (n_samples, ), for example using ravel().\n",
      "  y = column_or_1d(y, warn=True)\n",
      "C:\\Users\\hugo.lu\\Anaconda3\\lib\\site-packages\\sklearn\\ensemble\\bagging.py:622: DataConversionWarning: A column-vector y was passed when a 1d array was expected. Please change the shape of y to (n_samples, ), for example using ravel().\n",
      "  y = column_or_1d(y, warn=True)\n",
      "C:\\Users\\hugo.lu\\Anaconda3\\lib\\site-packages\\sklearn\\ensemble\\bagging.py:622: DataConversionWarning: A column-vector y was passed when a 1d array was expected. Please change the shape of y to (n_samples, ), for example using ravel().\n",
      "  y = column_or_1d(y, warn=True)\n",
      "C:\\Users\\hugo.lu\\Anaconda3\\lib\\site-packages\\sklearn\\ensemble\\bagging.py:622: DataConversionWarning: A column-vector y was passed when a 1d array was expected. Please change the shape of y to (n_samples, ), for example using ravel().\n",
      "  y = column_or_1d(y, warn=True)\n",
      "C:\\Users\\hugo.lu\\Anaconda3\\lib\\site-packages\\sklearn\\ensemble\\bagging.py:622: DataConversionWarning: A column-vector y was passed when a 1d array was expected. Please change the shape of y to (n_samples, ), for example using ravel().\n",
      "  y = column_or_1d(y, warn=True)\n",
      "C:\\Users\\hugo.lu\\Anaconda3\\lib\\site-packages\\sklearn\\ensemble\\bagging.py:622: DataConversionWarning: A column-vector y was passed when a 1d array was expected. Please change the shape of y to (n_samples, ), for example using ravel().\n",
      "  y = column_or_1d(y, warn=True)\n",
      "C:\\Users\\hugo.lu\\Anaconda3\\lib\\site-packages\\sklearn\\ensemble\\bagging.py:622: DataConversionWarning: A column-vector y was passed when a 1d array was expected. Please change the shape of y to (n_samples, ), for example using ravel().\n",
      "  y = column_or_1d(y, warn=True)\n",
      "C:\\Users\\hugo.lu\\Anaconda3\\lib\\site-packages\\sklearn\\ensemble\\bagging.py:622: DataConversionWarning: A column-vector y was passed when a 1d array was expected. Please change the shape of y to (n_samples, ), for example using ravel().\n",
      "  y = column_or_1d(y, warn=True)\n",
      "C:\\Users\\hugo.lu\\Anaconda3\\lib\\site-packages\\sklearn\\ensemble\\bagging.py:622: DataConversionWarning: A column-vector y was passed when a 1d array was expected. Please change the shape of y to (n_samples, ), for example using ravel().\n",
      "  y = column_or_1d(y, warn=True)\n",
      "C:\\Users\\hugo.lu\\Anaconda3\\lib\\site-packages\\sklearn\\ensemble\\bagging.py:622: DataConversionWarning: A column-vector y was passed when a 1d array was expected. Please change the shape of y to (n_samples, ), for example using ravel().\n",
      "  y = column_or_1d(y, warn=True)\n"
     ]
    },
    {
     "name": "stdout",
     "output_type": "stream",
     "text": [
      "accuracy :\n",
      "0.966084385046065\n"
     ]
    }
   ],
   "source": [
    "from sklearn import model_selection \n",
    "from sklearn.ensemble import BaggingClassifier \n",
    "from sklearn.tree import DecisionTreeClassifier \n",
    "\n",
    "X = np.array(model_data[x_vars])\n",
    "Y = np.array(model_data[y_vars])\n",
    "#Y = np.reshape(Y,newshape = (len(Y),1))\n",
    "  \n",
    "seed = 8\n",
    "kfold = model_selection.KFold(n_splits = 10, \n",
    "                       random_state = seed) \n",
    "  \n",
    "# initialize the base classifier \n",
    "base_cls = DecisionTreeClassifier(min_samples_split = 30) \n",
    "  \n",
    "# no. of base classifier \n",
    "num_trees = 10\n",
    "  \n",
    "# bagging classifier \n",
    "model = BaggingClassifier(base_estimator = base_cls, \n",
    "                          n_estimators = num_trees, \n",
    "                          random_state = seed,\n",
    "                         max_samples = round(len(model_data)/1.3),\n",
    "                         bootstrap = True)\n",
    "fit = model.fit(X,Y)\n",
    "  \n",
    "results = model_selection.cross_val_score(model, X, Y, cv = kfold) \n",
    "print(\"accuracy :\") \n",
    "print(results.mean()) "
   ]
  },
  {
   "cell_type": "code",
   "execution_count": 114,
   "metadata": {},
   "outputs": [],
   "source": [
    "predictions_train = ((fit.predict(X)))\n",
    "output = pd.DataFrame()\n",
    "output['y_hat'] = predictions_train\n",
    "output['y'] = Y\n",
    "output['true_positives'] = None\n",
    "output.at[(output['y'] ==1) & (output['y_hat']==1),'true_positives'] = 1\n",
    "output['true_negatives'] = None\n",
    "output.at[(output['y'] ==0) & (output['y_hat']==0),'true_negatives'] = 1\n",
    "output['false_positives'] = None\n",
    "output.at[(output['y'] ==0) & (output['y_hat']==1),'false_positives'] = 1\n",
    "output['false_negatives'] = None\n",
    "output.at[(output['y'] ==1) & (output['y_hat']==0),'false_negatives'] = 1"
   ]
  },
  {
   "cell_type": "code",
   "execution_count": 115,
   "metadata": {},
   "outputs": [
    {
     "data": {
      "text/plain": [
       "y_hat               11320.0\n",
       "y                   14543.0\n",
       "true_positives      10200.0\n",
       "true_negatives     672988.0\n",
       "false_positives      1120.0\n",
       "false_negatives      4343.0\n",
       "dtype: float64"
      ]
     },
     "execution_count": 115,
     "metadata": {},
     "output_type": "execute_result"
    }
   ],
   "source": [
    "output.sum()"
   ]
  },
  {
   "cell_type": "code",
   "execution_count": 116,
   "metadata": {},
   "outputs": [],
   "source": [
    "final_output = combined_filtered.copy(deep = True)"
   ]
  },
  {
   "cell_type": "code",
   "execution_count": 117,
   "metadata": {},
   "outputs": [],
   "source": [
    "final_output['y_pred'] = output['y_hat']"
   ]
  },
  {
   "cell_type": "code",
   "execution_count": 118,
   "metadata": {},
   "outputs": [],
   "source": [
    "fraudulent_users = list(final_output[final_output['y_pred'] == 1]['USER_ID'].drop_duplicates())"
   ]
  },
  {
   "cell_type": "code",
   "execution_count": 119,
   "metadata": {},
   "outputs": [],
   "source": [
    "given_fraudulent_users = list(fraudsters['user_id'].drop_duplicates())"
   ]
  },
  {
   "cell_type": "code",
   "execution_count": 120,
   "metadata": {},
   "outputs": [],
   "source": [
    "final_fraudulent_users = fraudulent_users.copy()\n",
    "for item in fraudulent_users:\n",
    "    if item in given_fraudulent_users:\n",
    "        final_fraudulent_users.remove(item)"
   ]
  },
  {
   "cell_type": "code",
   "execution_count": 121,
   "metadata": {},
   "outputs": [
    {
     "data": {
      "text/plain": [
       "144"
      ]
     },
     "execution_count": 121,
     "metadata": {},
     "output_type": "execute_result"
    }
   ],
   "source": [
    "len(final_fraudulent_users) # number of predicted frauds"
   ]
  }
 ],
 "metadata": {
  "kernelspec": {
   "display_name": "Python 3",
   "language": "python",
   "name": "python3"
  },
  "language_info": {
   "codemirror_mode": {
    "name": "ipython",
    "version": 3
   },
   "file_extension": ".py",
   "mimetype": "text/x-python",
   "name": "python",
   "nbconvert_exporter": "python",
   "pygments_lexer": "ipython3",
   "version": "3.7.3"
  }
 },
 "nbformat": 4,
 "nbformat_minor": 2
}
